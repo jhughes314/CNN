{
  "nbformat": 4,
  "nbformat_minor": 0,
  "metadata": {
    "colab": {
      "name": "import file and filter.ipynb",
      "provenance": [],
      "authorship_tag": "ABX9TyMWX33bRwMnFEkBGogMbj3O",
      "include_colab_link": true
    },
    "kernelspec": {
      "name": "python3",
      "display_name": "Python 3"
    }
  },
  "cells": [
    {
      "cell_type": "markdown",
      "metadata": {
        "id": "view-in-github",
        "colab_type": "text"
      },
      "source": [
        "<a href=\"https://colab.research.google.com/github/jhughes314/CNN/blob/master/import_file_and_filter.ipynb\" target=\"_parent\"><img src=\"https://colab.research.google.com/assets/colab-badge.svg\" alt=\"Open In Colab\"/></a>"
      ]
    },
    {
      "cell_type": "code",
      "metadata": {
        "id": "vB02EI2AtgjD",
        "outputId": "ae35b299-afd1-4e4b-cb24-8ada509a105e",
        "colab": {
          "base_uri": "https://localhost:8080/"
        }
      },
      "source": [
        "import pandas as pd\n",
        "import numpy as np\n",
        "\n",
        "\n",
        "excel_file = \"/content/drive/My Drive/Colab Notebooks/Odds Calc.xlsx\"\n",
        "df = pd.read_excel(excel_file)\n",
        "\n",
        "\n",
        "#filter \n",
        "newdf = df.query('Date == \"2020-09-28\"')\n",
        "print(newdf)\n",
        "\n",
        "\n",
        "\n",
        "\n"
      ],
      "execution_count": 38,
      "outputs": [
        {
          "output_type": "stream",
          "text": [
            "        Date            Away  BetAway         Home  ...    Won  Net +/-   Bank  Add $\n",
            "1 2020-09-28    Indians -1.5      2.5   Yankees ML  ...  13.36     3.86  31.86    NaN\n",
            "2 2020-09-28      Twins -1.5      6.0    Astros ML  ...  13.80     1.80  33.66    NaN\n",
            "3 2020-09-28       Chiefs ML      4.0  Ravens -3.5  ...   9.80     1.05  34.71    NaN\n",
            "4 2020-09-28  Cardinals -3.5      5.0  Panthers ML  ...   8.10     0.10  34.81    NaN\n",
            "\n",
            "[4 rows x 9 columns]\n"
          ],
          "name": "stdout"
        }
      ]
    }
  ]
}